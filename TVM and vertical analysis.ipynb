{
 "cells": [
  {
   "cell_type": "code",
   "execution_count": 516,
   "id": "36f943dc",
   "metadata": {},
   "outputs": [],
   "source": [
    "import pandas as pd"
   ]
  },
  {
   "cell_type": "code",
   "execution_count": 517,
   "id": "a705f7bf",
   "metadata": {},
   "outputs": [],
   "source": [
    "luv = pd.read_csv(\"/Users/medhaniesolomon/OneDrive - The University of Texas at Dallas/Financial_Report.csv\")"
   ]
  },
  {
   "cell_type": "code",
   "execution_count": 518,
   "id": "e2b3e39c",
   "metadata": {
    "collapsed": true
   },
   "outputs": [
    {
     "data": {
      "text/html": [
       "<div>\n",
       "<style scoped>\n",
       "    .dataframe tbody tr th:only-of-type {\n",
       "        vertical-align: middle;\n",
       "    }\n",
       "\n",
       "    .dataframe tbody tr th {\n",
       "        vertical-align: top;\n",
       "    }\n",
       "\n",
       "    .dataframe thead th {\n",
       "        text-align: right;\n",
       "    }\n",
       "</style>\n",
       "<table border=\"1\" class=\"dataframe\">\n",
       "  <thead>\n",
       "    <tr style=\"text-align: right;\">\n",
       "      <th></th>\n",
       "      <th>Consolidated Statement of Income (Loss) - USD ($) $ in Millions</th>\n",
       "      <th>12 Months Ended</th>\n",
       "      <th>Unnamed: 2</th>\n",
       "      <th>Unnamed: 3</th>\n",
       "    </tr>\n",
       "  </thead>\n",
       "  <tbody>\n",
       "    <tr>\n",
       "      <th>0</th>\n",
       "      <td>0</td>\n",
       "      <td>Dec. 31, 2020</td>\n",
       "      <td>Dec. 31, 2019</td>\n",
       "      <td>Dec. 31, 2018</td>\n",
       "    </tr>\n",
       "    <tr>\n",
       "      <th>1</th>\n",
       "      <td>OPERATING REVENUES:</td>\n",
       "      <td>0</td>\n",
       "      <td>0</td>\n",
       "      <td>0</td>\n",
       "    </tr>\n",
       "    <tr>\n",
       "      <th>2</th>\n",
       "      <td>Operating Revenue</td>\n",
       "      <td>$9,048</td>\n",
       "      <td>22428</td>\n",
       "      <td>$21,965</td>\n",
       "    </tr>\n",
       "    <tr>\n",
       "      <th>3</th>\n",
       "      <td>OPERATING EXPENSES, NET:</td>\n",
       "      <td>0</td>\n",
       "      <td>0</td>\n",
       "      <td>0</td>\n",
       "    </tr>\n",
       "    <tr>\n",
       "      <th>4</th>\n",
       "      <td>Salaries, wages, and benefits</td>\n",
       "      <td>6811</td>\n",
       "      <td>8293</td>\n",
       "      <td>7,649</td>\n",
       "    </tr>\n",
       "    <tr>\n",
       "      <th>5</th>\n",
       "      <td>Payroll support and voluntary Employee program...</td>\n",
       "      <td>-967</td>\n",
       "      <td>0</td>\n",
       "      <td>0</td>\n",
       "    </tr>\n",
       "    <tr>\n",
       "      <th>6</th>\n",
       "      <td>Fuel and oil</td>\n",
       "      <td>1849</td>\n",
       "      <td>4347</td>\n",
       "      <td>4,616</td>\n",
       "    </tr>\n",
       "    <tr>\n",
       "      <th>7</th>\n",
       "      <td>Maintenance materials and repairs</td>\n",
       "      <td>750</td>\n",
       "      <td>1223</td>\n",
       "      <td>1,107</td>\n",
       "    </tr>\n",
       "    <tr>\n",
       "      <th>8</th>\n",
       "      <td>Landing fees and airport rentals</td>\n",
       "      <td>1240</td>\n",
       "      <td>1363</td>\n",
       "      <td>1,334</td>\n",
       "    </tr>\n",
       "    <tr>\n",
       "      <th>9</th>\n",
       "      <td>Depreciation and amortization</td>\n",
       "      <td>1255</td>\n",
       "      <td>1219</td>\n",
       "      <td>1,201</td>\n",
       "    </tr>\n",
       "    <tr>\n",
       "      <th>10</th>\n",
       "      <td>Other operating expenses</td>\n",
       "      <td>1926</td>\n",
       "      <td>3026</td>\n",
       "      <td>2,852</td>\n",
       "    </tr>\n",
       "    <tr>\n",
       "      <th>11</th>\n",
       "      <td>Total operating expenses, net</td>\n",
       "      <td>12864</td>\n",
       "      <td>19471</td>\n",
       "      <td>18,759</td>\n",
       "    </tr>\n",
       "    <tr>\n",
       "      <th>12</th>\n",
       "      <td>OPERATING INCOME (LOSS)</td>\n",
       "      <td>-3816</td>\n",
       "      <td>2957</td>\n",
       "      <td>3,206</td>\n",
       "    </tr>\n",
       "    <tr>\n",
       "      <th>13</th>\n",
       "      <td>OTHER EXPENSES (INCOME):</td>\n",
       "      <td>0</td>\n",
       "      <td>0</td>\n",
       "      <td>0</td>\n",
       "    </tr>\n",
       "    <tr>\n",
       "      <th>14</th>\n",
       "      <td>Interest expense</td>\n",
       "      <td>349</td>\n",
       "      <td>118</td>\n",
       "      <td>131</td>\n",
       "    </tr>\n",
       "    <tr>\n",
       "      <th>15</th>\n",
       "      <td>Capitalized interest</td>\n",
       "      <td>-35</td>\n",
       "      <td>-36</td>\n",
       "      <td>-38</td>\n",
       "    </tr>\n",
       "    <tr>\n",
       "      <th>16</th>\n",
       "      <td>Interest income</td>\n",
       "      <td>-32</td>\n",
       "      <td>-90</td>\n",
       "      <td>-69</td>\n",
       "    </tr>\n",
       "    <tr>\n",
       "      <th>17</th>\n",
       "      <td>Other (gains) losses, net</td>\n",
       "      <td>-158</td>\n",
       "      <td>-8</td>\n",
       "      <td>-18</td>\n",
       "    </tr>\n",
       "    <tr>\n",
       "      <th>18</th>\n",
       "      <td>Total other expenses (income)</td>\n",
       "      <td>440</td>\n",
       "      <td>0</td>\n",
       "      <td>42</td>\n",
       "    </tr>\n",
       "    <tr>\n",
       "      <th>19</th>\n",
       "      <td>INCOME (LOSS) BEFORE INCOME TAXES</td>\n",
       "      <td>-4256</td>\n",
       "      <td>2957</td>\n",
       "      <td>3,164</td>\n",
       "    </tr>\n",
       "    <tr>\n",
       "      <th>20</th>\n",
       "      <td>PROVISION (BENEFIT) FOR INCOME TAXES</td>\n",
       "      <td>-1182</td>\n",
       "      <td>657</td>\n",
       "      <td>699</td>\n",
       "    </tr>\n",
       "    <tr>\n",
       "      <th>21</th>\n",
       "      <td>NET INCOME (LOSS)</td>\n",
       "      <td>($3,074)</td>\n",
       "      <td>2300</td>\n",
       "      <td>$2,465</td>\n",
       "    </tr>\n",
       "    <tr>\n",
       "      <th>22</th>\n",
       "      <td>NET INCOME (LOSS) PER SHARE, BASIC</td>\n",
       "      <td>($5.44)</td>\n",
       "      <td>4.28</td>\n",
       "      <td>$4.30</td>\n",
       "    </tr>\n",
       "    <tr>\n",
       "      <th>23</th>\n",
       "      <td>NET INCOME (LOSS) PER SHARE, DILUTED</td>\n",
       "      <td>($5.44)</td>\n",
       "      <td>4.27</td>\n",
       "      <td>$4.29</td>\n",
       "    </tr>\n",
       "    <tr>\n",
       "      <th>24</th>\n",
       "      <td>Passenger</td>\n",
       "      <td>0</td>\n",
       "      <td>0</td>\n",
       "      <td>0</td>\n",
       "    </tr>\n",
       "    <tr>\n",
       "      <th>25</th>\n",
       "      <td>OPERATING REVENUES:</td>\n",
       "      <td>0</td>\n",
       "      <td>0</td>\n",
       "      <td>0</td>\n",
       "    </tr>\n",
       "    <tr>\n",
       "      <th>26</th>\n",
       "      <td>Operating Revenue</td>\n",
       "      <td>$7,665</td>\n",
       "      <td>20776</td>\n",
       "      <td>$20,455</td>\n",
       "    </tr>\n",
       "    <tr>\n",
       "      <th>27</th>\n",
       "      <td>Freight</td>\n",
       "      <td>0</td>\n",
       "      <td>0</td>\n",
       "      <td>0</td>\n",
       "    </tr>\n",
       "    <tr>\n",
       "      <th>28</th>\n",
       "      <td>OPERATING REVENUES:</td>\n",
       "      <td>0</td>\n",
       "      <td>0</td>\n",
       "      <td>0</td>\n",
       "    </tr>\n",
       "    <tr>\n",
       "      <th>29</th>\n",
       "      <td>Operating Revenue</td>\n",
       "      <td>161</td>\n",
       "      <td>172</td>\n",
       "      <td>175</td>\n",
       "    </tr>\n",
       "    <tr>\n",
       "      <th>30</th>\n",
       "      <td>Other</td>\n",
       "      <td>0</td>\n",
       "      <td>0</td>\n",
       "      <td>0</td>\n",
       "    </tr>\n",
       "    <tr>\n",
       "      <th>31</th>\n",
       "      <td>OPERATING REVENUES:</td>\n",
       "      <td>0</td>\n",
       "      <td>0</td>\n",
       "      <td>0</td>\n",
       "    </tr>\n",
       "    <tr>\n",
       "      <th>32</th>\n",
       "      <td>Operating Revenue</td>\n",
       "      <td>$1,222</td>\n",
       "      <td>1480</td>\n",
       "      <td>$1,335</td>\n",
       "    </tr>\n",
       "  </tbody>\n",
       "</table>\n",
       "</div>"
      ],
      "text/plain": [
       "   Consolidated Statement of Income (Loss) - USD ($) $ in Millions  \\\n",
       "0                                                   0                \n",
       "1                                 OPERATING REVENUES:                \n",
       "2                                   Operating Revenue                \n",
       "3                            OPERATING EXPENSES, NET:                \n",
       "4                       Salaries, wages, and benefits                \n",
       "5   Payroll support and voluntary Employee program...                \n",
       "6                                        Fuel and oil                \n",
       "7                   Maintenance materials and repairs                \n",
       "8                    Landing fees and airport rentals                \n",
       "9                       Depreciation and amortization                \n",
       "10                           Other operating expenses                \n",
       "11                      Total operating expenses, net                \n",
       "12                            OPERATING INCOME (LOSS)                \n",
       "13                           OTHER EXPENSES (INCOME):                \n",
       "14                                   Interest expense                \n",
       "15                               Capitalized interest                \n",
       "16                                    Interest income                \n",
       "17                          Other (gains) losses, net                \n",
       "18                      Total other expenses (income)                \n",
       "19                  INCOME (LOSS) BEFORE INCOME TAXES                \n",
       "20               PROVISION (BENEFIT) FOR INCOME TAXES                \n",
       "21                                  NET INCOME (LOSS)                \n",
       "22                 NET INCOME (LOSS) PER SHARE, BASIC                \n",
       "23               NET INCOME (LOSS) PER SHARE, DILUTED                \n",
       "24                                          Passenger                \n",
       "25                                OPERATING REVENUES:                \n",
       "26                                  Operating Revenue                \n",
       "27                                            Freight                \n",
       "28                                OPERATING REVENUES:                \n",
       "29                                  Operating Revenue                \n",
       "30                                              Other                \n",
       "31                                OPERATING REVENUES:                \n",
       "32                                  Operating Revenue                \n",
       "\n",
       "   12 Months Ended     Unnamed: 2     Unnamed: 3  \n",
       "0    Dec. 31, 2020  Dec. 31, 2019  Dec. 31, 2018  \n",
       "1                0              0              0  \n",
       "2          $9,048           22428       $21,965   \n",
       "3                0              0              0  \n",
       "4             6811           8293          7,649  \n",
       "5             -967              0              0  \n",
       "6             1849           4347          4,616  \n",
       "7              750           1223          1,107  \n",
       "8             1240           1363          1,334  \n",
       "9             1255           1219          1,201  \n",
       "10            1926           3026          2,852  \n",
       "11           12864          19471         18,759  \n",
       "12           -3816           2957          3,206  \n",
       "13               0              0              0  \n",
       "14             349            118            131  \n",
       "15             -35            -36            -38  \n",
       "16             -32            -90            -69  \n",
       "17            -158             -8            -18  \n",
       "18             440              0             42  \n",
       "19           -4256           2957          3,164  \n",
       "20           -1182            657            699  \n",
       "21        ($3,074)           2300        $2,465   \n",
       "22         ($5.44)           4.28         $4.30   \n",
       "23         ($5.44)           4.27         $4.29   \n",
       "24               0              0              0  \n",
       "25               0              0              0  \n",
       "26         $7,665           20776       $20,455   \n",
       "27               0              0              0  \n",
       "28               0              0              0  \n",
       "29             161            172            175  \n",
       "30               0              0              0  \n",
       "31               0              0              0  \n",
       "32         $1,222            1480        $1,335   "
      ]
     },
     "execution_count": 518,
     "metadata": {},
     "output_type": "execute_result"
    }
   ],
   "source": [
    "luv.fillna(0)"
   ]
  },
  {
   "cell_type": "code",
   "execution_count": 519,
   "id": "5fbeeb51",
   "metadata": {},
   "outputs": [],
   "source": [
    "luv=luv.drop(columns = [\"Unnamed: 2\", \"Unnamed: 3\"])"
   ]
  },
  {
   "cell_type": "code",
   "execution_count": 520,
   "id": "ed5b3c54",
   "metadata": {},
   "outputs": [],
   "source": [
    "luv=luv.drop([0,1,3,13,24,25,27,28,30,31],axis=0)"
   ]
  },
  {
   "cell_type": "code",
   "execution_count": 521,
   "id": "c950d694",
   "metadata": {},
   "outputs": [
    {
     "data": {
      "text/html": [
       "<div>\n",
       "<style scoped>\n",
       "    .dataframe tbody tr th:only-of-type {\n",
       "        vertical-align: middle;\n",
       "    }\n",
       "\n",
       "    .dataframe tbody tr th {\n",
       "        vertical-align: top;\n",
       "    }\n",
       "\n",
       "    .dataframe thead th {\n",
       "        text-align: right;\n",
       "    }\n",
       "</style>\n",
       "<table border=\"1\" class=\"dataframe\">\n",
       "  <thead>\n",
       "    <tr style=\"text-align: right;\">\n",
       "      <th></th>\n",
       "      <th>Consolidated Statement of Income (Loss) - USD ($) $ in Millions</th>\n",
       "      <th>12 Months Ended</th>\n",
       "    </tr>\n",
       "  </thead>\n",
       "  <tbody>\n",
       "    <tr>\n",
       "      <th>2</th>\n",
       "      <td>Operating Revenue</td>\n",
       "      <td>$9,048</td>\n",
       "    </tr>\n",
       "    <tr>\n",
       "      <th>4</th>\n",
       "      <td>Salaries, wages, and benefits</td>\n",
       "      <td>6811</td>\n",
       "    </tr>\n",
       "    <tr>\n",
       "      <th>5</th>\n",
       "      <td>Payroll support and voluntary Employee program...</td>\n",
       "      <td>-967</td>\n",
       "    </tr>\n",
       "    <tr>\n",
       "      <th>6</th>\n",
       "      <td>Fuel and oil</td>\n",
       "      <td>1849</td>\n",
       "    </tr>\n",
       "    <tr>\n",
       "      <th>7</th>\n",
       "      <td>Maintenance materials and repairs</td>\n",
       "      <td>750</td>\n",
       "    </tr>\n",
       "  </tbody>\n",
       "</table>\n",
       "</div>"
      ],
      "text/plain": [
       "  Consolidated Statement of Income (Loss) - USD ($) $ in Millions  \\\n",
       "2                                  Operating Revenue                \n",
       "4                      Salaries, wages, and benefits                \n",
       "5  Payroll support and voluntary Employee program...                \n",
       "6                                       Fuel and oil                \n",
       "7                  Maintenance materials and repairs                \n",
       "\n",
       "  12 Months Ended  \n",
       "2         $9,048   \n",
       "4            6811  \n",
       "5            -967  \n",
       "6            1849  \n",
       "7             750  "
      ]
     },
     "execution_count": 521,
     "metadata": {},
     "output_type": "execute_result"
    }
   ],
   "source": [
    "luv.head()"
   ]
  },
  {
   "cell_type": "code",
   "execution_count": 522,
   "id": "3d400ae0",
   "metadata": {},
   "outputs": [
    {
     "name": "stderr",
     "output_type": "stream",
     "text": [
      "<ipython-input-522-dfe69c877784>:1: FutureWarning: The default value of regex will change from True to False in a future version. In addition, single character regular expressions will *not* be treated as literal strings when regex=True.\n",
      "  luv[\"12 Months Ended\"] = luv[\"12 Months Ended\"].str.replace('$','').str.replace(',','').str.replace('\\((.*)\\)','-\\\\1').astype(float)\n",
      "<ipython-input-522-dfe69c877784>:1: FutureWarning: The default value of regex will change from True to False in a future version.\n",
      "  luv[\"12 Months Ended\"] = luv[\"12 Months Ended\"].str.replace('$','').str.replace(',','').str.replace('\\((.*)\\)','-\\\\1').astype(float)\n"
     ]
    }
   ],
   "source": [
    "luv[\"12 Months Ended\"] = luv[\"12 Months Ended\"].str.replace('$','').str.replace(',','').str.replace('\\((.*)\\)','-\\\\1').astype(float)"
   ]
  },
  {
   "cell_type": "code",
   "execution_count": 523,
   "id": "0d470787",
   "metadata": {},
   "outputs": [
    {
     "data": {
      "text/plain": [
       "9048.0"
      ]
     },
     "execution_count": 523,
     "metadata": {},
     "output_type": "execute_result"
    }
   ],
   "source": [
    "Revenue = luv.iloc[0,1]\n",
    "Revenue"
   ]
  },
  {
   "cell_type": "code",
   "execution_count": 524,
   "id": "441f2486",
   "metadata": {},
   "outputs": [
    {
     "data": {
      "text/plain": [
       "-3816.0"
      ]
     },
     "execution_count": 524,
     "metadata": {},
     "output_type": "execute_result"
    }
   ],
   "source": [
    "Operating_Profit = luv.iloc[9,1]\n",
    "Operating_Profit"
   ]
  },
  {
   "cell_type": "code",
   "execution_count": 525,
   "id": "25c241ce",
   "metadata": {},
   "outputs": [
    {
     "data": {
      "text/plain": [
       "-3074.0"
      ]
     },
     "execution_count": 525,
     "metadata": {},
     "output_type": "execute_result"
    }
   ],
   "source": [
    "Net_Profit = luv.iloc[17,1]\n",
    "Net_Profit"
   ]
  },
  {
   "cell_type": "code",
   "execution_count": 526,
   "id": "d1de458f",
   "metadata": {},
   "outputs": [
    {
     "data": {
      "text/plain": [
       "-4256.0"
      ]
     },
     "execution_count": 526,
     "metadata": {},
     "output_type": "execute_result"
    }
   ],
   "source": [
    "EBIT = luv.iloc[15,1]\n",
    "EBIT"
   ]
  },
  {
   "cell_type": "code",
   "execution_count": 527,
   "id": "008a30ca",
   "metadata": {},
   "outputs": [
    {
     "data": {
      "text/plain": [
       "349.0"
      ]
     },
     "execution_count": 527,
     "metadata": {},
     "output_type": "execute_result"
    }
   ],
   "source": [
    "Interest_Expense = luv.iloc[10,1]\n",
    "Interest_Expense"
   ]
  },
  {
   "cell_type": "code",
   "execution_count": 528,
   "id": "c8a246af",
   "metadata": {},
   "outputs": [
    {
     "data": {
      "text/plain": [
       "-1182.0"
      ]
     },
     "execution_count": 528,
     "metadata": {},
     "output_type": "execute_result"
    }
   ],
   "source": [
    "Tax_Provision = luv.iloc[16,1]\n",
    "Tax_Provision"
   ]
  },
  {
   "cell_type": "code",
   "execution_count": 529,
   "id": "c1585186",
   "metadata": {},
   "outputs": [],
   "source": [
    "Gross_Profit = -2787.00"
   ]
  },
  {
   "cell_type": "code",
   "execution_count": 543,
   "id": "c5dc0f61",
   "metadata": {},
   "outputs": [
    {
     "data": {
      "text/plain": [
       "-0.31"
      ]
     },
     "execution_count": 543,
     "metadata": {},
     "output_type": "execute_result"
    }
   ],
   "source": [
    "Gross_Profit_Ratio = Gross_Profit / Revenue\n",
    "round(Gross_Profit_Ratio,2)"
   ]
  },
  {
   "cell_type": "code",
   "execution_count": 539,
   "id": "4305b27b",
   "metadata": {},
   "outputs": [
    {
     "data": {
      "text/plain": [
       "-0.4217506631299735"
      ]
     },
     "execution_count": 539,
     "metadata": {},
     "output_type": "execute_result"
    }
   ],
   "source": [
    "Operating_Profit_Ratio = Operating_Profit / Revenue\n",
    "Operating_Profit_Ratio"
   ]
  },
  {
   "cell_type": "code",
   "execution_count": 540,
   "id": "d785cccf",
   "metadata": {},
   "outputs": [
    {
     "data": {
      "text/plain": [
       "-0.33974358974358976"
      ]
     },
     "execution_count": 540,
     "metadata": {},
     "output_type": "execute_result"
    }
   ],
   "source": [
    "Net_Profit_Ratio = Net_Profit / Revenue\n",
    "Net_Profit_Ratio"
   ]
  },
  {
   "cell_type": "code",
   "execution_count": 541,
   "id": "2276213d",
   "metadata": {},
   "outputs": [
    {
     "data": {
      "text/plain": [
       "0.27772556390977443"
      ]
     },
     "execution_count": 541,
     "metadata": {},
     "output_type": "execute_result"
    }
   ],
   "source": [
    "Tax_Ratio = Tax_Provision / EBIT\n",
    "Tax_Ratio"
   ]
  },
  {
   "cell_type": "code",
   "execution_count": 542,
   "id": "9affd97d",
   "metadata": {},
   "outputs": [
    {
     "data": {
      "text/plain": [
       "-12.194842406876791"
      ]
     },
     "execution_count": 542,
     "metadata": {},
     "output_type": "execute_result"
    }
   ],
   "source": [
    "Interest_Coverage_Ratio = EBIT / Interest_Expense\n",
    "Interest_Coverage_Ratio"
   ]
  },
  {
   "cell_type": "code",
   "execution_count": null,
   "id": "b08da09b",
   "metadata": {},
   "outputs": [],
   "source": []
  },
  {
   "cell_type": "code",
   "execution_count": null,
   "id": "4162d5ab",
   "metadata": {},
   "outputs": [],
   "source": []
  },
  {
   "cell_type": "code",
   "execution_count": null,
   "id": "d98ed38e",
   "metadata": {},
   "outputs": [],
   "source": []
  }
 ],
 "metadata": {
  "kernelspec": {
   "display_name": "Python 3",
   "language": "python",
   "name": "python3"
  },
  "language_info": {
   "codemirror_mode": {
    "name": "ipython",
    "version": 3
   },
   "file_extension": ".py",
   "mimetype": "text/x-python",
   "name": "python",
   "nbconvert_exporter": "python",
   "pygments_lexer": "ipython3",
   "version": "3.9.6"
  }
 },
 "nbformat": 4,
 "nbformat_minor": 5
}
